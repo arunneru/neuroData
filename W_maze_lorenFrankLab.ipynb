{
 "cells": [
  {
   "cell_type": "markdown",
   "metadata": {},
   "source": [
    "## Introduction\n",
    "\n",
    "This notebook describes the analysis of extracellular recording data from Loren Frank Lab. The data was downloaded from CRNS website "
   ]
  },
  {
   "cell_type": "code",
   "execution_count": null,
   "metadata": {},
   "outputs": [],
   "source": [
    "import numpy as np\n",
    "from numpy.fft import rfft\n",
    "import scipy.io\n",
    "from scipy import signal\n",
    "from neurodsp.spectral import compute_spectrum, rotate_powerlaw\n",
    "\n",
    "# Import utilities for loading and plotting data\n",
    "from neurodsp.utils import create_times\n",
    "from neurodsp.utils.download import load_ndsp_data\n",
    "from neurodsp.plts.spectral import plot_power_spectra\n",
    "from neurodsp.plts.time_series import plot_time_series\n",
    "from neurodsp.filt import filter_signal\n",
    "\n",
    "import matplotlib.pyplot as plt\n",
    "%matplotlib qt"
   ]
  },
  {
   "cell_type": "code",
   "execution_count": null,
   "metadata": {},
   "outputs": [],
   "source": []
  }
 ],
 "metadata": {
  "language_info": {
   "name": "python"
  }
 },
 "nbformat": 4,
 "nbformat_minor": 2
}
