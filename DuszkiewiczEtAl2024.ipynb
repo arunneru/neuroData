{
 "cells": [
  {
   "cell_type": "code",
   "execution_count": 15,
   "metadata": {},
   "outputs": [],
   "source": [
    "import pynapple as nap\n",
    "import numpy as np\n",
    "import matplotlib.pyplot as plt\n",
    "\n",
    "import os\n",
    "from os.path import dirname, join as pjoin\n",
    "import scipy.io as sio\n",
    "\n",
    "import pymatreader"
   ]
  },
  {
   "cell_type": "code",
   "execution_count": 17,
   "metadata": {},
   "outputs": [],
   "source": [
    "data_dir = pjoin('C:\\\\Users\\\\Acer\\\\Documents\\\\compNeuroProjects\\\\neural_reco_offline\\\\Duszkiewicz2024', 'Dataset_2', 'A3701-191119', 'Data')\n",
    "spikeData_fname = pjoin(data_dir, 'SpikeData.mat')"
   ]
  },
  {
   "cell_type": "code",
   "execution_count": 16,
   "metadata": {},
   "outputs": [
    {
     "data": {
      "text/plain": [
       "['._Ahv.mat',\n",
       " '._Angle.mat',\n",
       " '._BehavEpochs.mat',\n",
       " '._BrainArea.mat',\n",
       " '._CellDepth.mat',\n",
       " '._CellTypes.mat',\n",
       " '._Epoch_TS.csv',\n",
       " '._SpikeData.mat',\n",
       " '._Tracking_data.csv',\n",
       " '._Velocity.mat',\n",
       " '._WaveformFeatures.mat',\n",
       " '._Waveforms.mat',\n",
       " 'Ahv.mat',\n",
       " 'Angle.mat',\n",
       " 'BehavEpochs.mat',\n",
       " 'BrainArea.mat',\n",
       " 'CellDepth.mat',\n",
       " 'CellTypes.mat',\n",
       " 'Epoch_TS.csv',\n",
       " 'SpikeData.mat',\n",
       " 'Tracking_data.csv',\n",
       " 'Velocity.mat',\n",
       " 'WaveformFeatures.mat',\n",
       " 'Waveforms.mat']"
      ]
     },
     "execution_count": 16,
     "metadata": {},
     "output_type": "execute_result"
    }
   ],
   "source": [
    "os.listdir(data_dir)"
   ]
  },
  {
   "cell_type": "code",
   "execution_count": 18,
   "metadata": {},
   "outputs": [
    {
     "data": {
      "text/plain": [
       "dict_keys(['__header__', '__version__', '__globals__', 'S', 'S_Info', 'shank', 'shank_Info', 'cellIx', 'cellIx_Info'])"
      ]
     },
     "execution_count": 18,
     "metadata": {},
     "output_type": "execute_result"
    }
   ],
   "source": [
    "spikeData = pymatreader.read_mat(spikeData_fname)\n",
    "spikeData.keys()"
   ]
  },
  {
   "cell_type": "code",
   "execution_count": null,
   "metadata": {},
   "outputs": [],
   "source": []
  },
  {
   "cell_type": "code",
   "execution_count": 19,
   "metadata": {},
   "outputs": [],
   "source": [
    "sp_times = spikeData[\"S\"]['C'][0]['tsd']['t']"
   ]
  },
  {
   "cell_type": "code",
   "execution_count": 14,
   "metadata": {},
   "outputs": [
    {
     "data": {
      "text/plain": [
       "(2000.0, 2010.0)"
      ]
     },
     "execution_count": 14,
     "metadata": {},
     "output_type": "execute_result"
    },
    {
     "data": {
      "image/png": "[encoded data removed]",
      "text/plain": [
       "<Figure size 640x480 with 1 Axes>"
      ]
     },
     "metadata": {},
     "output_type": "display_data"
    }
   ],
   "source": [
    "plt.eventplot(sp_times)\n",
    "ax = plt.gca()\n",
    "ax.set_xlim([2000,2010])"
   ]
  },
  {
   "cell_type": "code",
   "execution_count": null,
   "metadata": {},
   "outputs": [],
   "source": []
  }
 ],
 "metadata": {
  "kernelspec": {
   "display_name": "pynapple",
   "language": "python",
   "name": "python3"
  },
  "language_info": {
   "codemirror_mode": {
    "name": "ipython",
    "version": 3
   },
   "file_extension": ".py",
   "mimetype": "text/x-python",
   "name": "python",
   "nbconvert_exporter": "python",
   "pygments_lexer": "ipython3",
   "version": "3.12.9"
  }
 },
 "nbformat": 4,
 "nbformat_minor": 2
}
